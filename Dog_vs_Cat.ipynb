{
  "nbformat": 4,
  "nbformat_minor": 0,
  "metadata": {
    "colab": {
      "name": "Dog_vs_Cat.ipynb",
      "provenance": [],
      "toc_visible": true
    },
    "kernelspec": {
      "name": "python3",
      "display_name": "Python 3"
    },
    "language_info": {
      "name": "python"
    }
  },
  "cells": [
    {
      "cell_type": "code",
      "execution_count": 3,
      "metadata": {
        "colab": {
          "base_uri": "https://localhost:8080/"
        },
        "id": "FeyRToThbluZ",
        "outputId": "9c5e5e51-2f02-4676-d797-6b1f7f619dc3"
      },
      "outputs": [
        {
          "output_type": "stream",
          "name": "stdout",
          "text": [
            "2.7.0\n"
          ]
        }
      ],
      "source": [
        "import tensorflow as tf\n",
        "print(tf.__version__)\n",
        "from keras.preprocessing.image import ImageDataGenerator"
      ]
    },
    {
      "cell_type": "code",
      "source": [
        "from google.colab import drive\n",
        "drive.mount('/content/gdrive')"
      ],
      "metadata": {
        "colab": {
          "base_uri": "https://localhost:8080/"
        },
        "id": "WZ6E9HdedXLh",
        "outputId": "39342955-675b-4e57-aecf-8ae469787ff4"
      },
      "execution_count": 4,
      "outputs": [
        {
          "output_type": "stream",
          "name": "stdout",
          "text": [
            "Mounted at /content/gdrive\n"
          ]
        }
      ]
    },
    {
      "cell_type": "code",
      "source": [
        "!unzip \"/content/gdrive/MyDrive/Colab Notebooks/Keras_Deep_Learning-master.zip\""
      ],
      "metadata": {
        "colab": {
          "base_uri": "https://localhost:8080/"
        },
        "id": "YdE_ibYMeDvI",
        "outputId": "f2d1afb5-af97-4d83-c56e-ec5d0964a392"
      },
      "execution_count": 5,
      "outputs": [
        {
          "output_type": "stream",
          "name": "stdout",
          "text": [
            "Archive:  /content/gdrive/MyDrive/Colab Notebooks/Keras_Deep_Learning-master.zip\n",
            "b0e3889ae6ea3fcfb1cb72bc27145a9f42108d18\n",
            "   creating: Keras_Deep_Learning-master/\n",
            "  inflating: Keras_Deep_Learning-master/6.jpg  \n",
            "  inflating: Keras_Deep_Learning-master/Basic_of_Keras.ipynb  \n",
            "  inflating: Keras_Deep_Learning-master/Cat_Dog_Image_Trining_Model_Keras.ipynb  \n",
            "  inflating: Keras_Deep_Learning-master/Image_Caption_Tensor_Keras_LSTM.ipynb  \n",
            "  inflating: Keras_Deep_Learning-master/Image_recognation_Resnet50.ipynb  \n",
            "  inflating: Keras_Deep_Learning-master/Keras_Basic_Example.ipynb  \n",
            "  inflating: Keras_Deep_Learning-master/Keras_First_Neural_Network.ipynb  \n",
            "  inflating: Keras_Deep_Learning-master/Keras_image_generator.ipynb  \n",
            "  inflating: Keras_Deep_Learning-master/Keras_second_example_sales_data.ipynb  \n",
            "  inflating: Keras_Deep_Learning-master/Load_saved_model.ipynb  \n",
            "  inflating: Keras_Deep_Learning-master/README.md  \n",
            "   creating: Keras_Deep_Learning-master/image_data/\n",
            "   creating: Keras_Deep_Learning-master/image_data/test/\n",
            "  inflating: Keras_Deep_Learning-master/image_data/test/234.jpg  \n",
            "  inflating: Keras_Deep_Learning-master/image_data/test/236.jpg  \n",
            "  inflating: Keras_Deep_Learning-master/image_data/test/2512.jpg  \n",
            "  inflating: Keras_Deep_Learning-master/image_data/test/2658.jpg  \n",
            "  inflating: Keras_Deep_Learning-master/image_data/test/2994.jpg  \n",
            "  inflating: Keras_Deep_Learning-master/image_data/test/310.jpg  \n",
            "  inflating: Keras_Deep_Learning-master/image_data/test/3111.jpg  \n",
            "  inflating: Keras_Deep_Learning-master/image_data/test/3285.jpg  \n",
            "   creating: Keras_Deep_Learning-master/image_data/training/\n",
            "   creating: Keras_Deep_Learning-master/image_data/training/Cat/\n",
            "  inflating: Keras_Deep_Learning-master/image_data/training/Cat/2502.jpg  \n",
            "  inflating: Keras_Deep_Learning-master/image_data/training/Cat/2503.jpg  \n",
            "  inflating: Keras_Deep_Learning-master/image_data/training/Cat/2504.jpg  \n",
            "  inflating: Keras_Deep_Learning-master/image_data/training/Cat/2505.jpg  \n",
            "  inflating: Keras_Deep_Learning-master/image_data/training/Cat/2506.jpg  \n",
            "  inflating: Keras_Deep_Learning-master/image_data/training/Cat/2507.jpg  \n",
            "  inflating: Keras_Deep_Learning-master/image_data/training/Cat/2508.jpg  \n",
            "  inflating: Keras_Deep_Learning-master/image_data/training/Cat/2509.jpg  \n",
            "  inflating: Keras_Deep_Learning-master/image_data/training/Cat/2510.jpg  \n",
            "  inflating: Keras_Deep_Learning-master/image_data/training/Cat/2511.jpg  \n",
            "  inflating: Keras_Deep_Learning-master/image_data/training/Cat/2512.jpg  \n",
            "  inflating: Keras_Deep_Learning-master/image_data/training/Cat/2513.jpg  \n",
            "  inflating: Keras_Deep_Learning-master/image_data/training/Cat/2514.jpg  \n",
            "  inflating: Keras_Deep_Learning-master/image_data/training/Cat/2515.jpg  \n",
            "  inflating: Keras_Deep_Learning-master/image_data/training/Cat/2516.jpg  \n",
            "  inflating: Keras_Deep_Learning-master/image_data/training/Cat/2517.jpg  \n",
            "  inflating: Keras_Deep_Learning-master/image_data/training/Cat/2518.jpg  \n",
            "  inflating: Keras_Deep_Learning-master/image_data/training/Cat/2519.jpg  \n",
            "  inflating: Keras_Deep_Learning-master/image_data/training/Cat/2520.jpg  \n",
            "  inflating: Keras_Deep_Learning-master/image_data/training/Cat/2521.jpg  \n",
            "  inflating: Keras_Deep_Learning-master/image_data/training/Cat/2522.jpg  \n",
            "  inflating: Keras_Deep_Learning-master/image_data/training/Cat/2523.jpg  \n",
            "  inflating: Keras_Deep_Learning-master/image_data/training/Cat/2524.jpg  \n",
            "  inflating: Keras_Deep_Learning-master/image_data/training/Cat/2525.jpg  \n",
            "  inflating: Keras_Deep_Learning-master/image_data/training/Cat/2526.jpg  \n",
            "  inflating: Keras_Deep_Learning-master/image_data/training/Cat/2527.jpg  \n",
            "  inflating: Keras_Deep_Learning-master/image_data/training/Cat/2528.jpg  \n",
            "  inflating: Keras_Deep_Learning-master/image_data/training/Cat/2529.jpg  \n",
            "  inflating: Keras_Deep_Learning-master/image_data/training/Cat/2530.jpg  \n",
            "  inflating: Keras_Deep_Learning-master/image_data/training/Cat/2531.jpg  \n",
            "  inflating: Keras_Deep_Learning-master/image_data/training/Cat/2532.jpg  \n",
            "  inflating: Keras_Deep_Learning-master/image_data/training/Cat/2533.jpg  \n",
            "  inflating: Keras_Deep_Learning-master/image_data/training/Cat/2534.jpg  \n",
            "  inflating: Keras_Deep_Learning-master/image_data/training/Cat/2535.jpg  \n",
            "  inflating: Keras_Deep_Learning-master/image_data/training/Cat/2536.jpg  \n",
            "  inflating: Keras_Deep_Learning-master/image_data/training/Cat/2537.jpg  \n",
            "  inflating: Keras_Deep_Learning-master/image_data/training/Cat/2538.jpg  \n",
            "  inflating: Keras_Deep_Learning-master/image_data/training/Cat/2539.jpg  \n",
            "  inflating: Keras_Deep_Learning-master/image_data/training/Cat/2540.jpg  \n",
            "  inflating: Keras_Deep_Learning-master/image_data/training/Cat/2541.jpg  \n",
            "  inflating: Keras_Deep_Learning-master/image_data/training/Cat/2542.jpg  \n",
            "  inflating: Keras_Deep_Learning-master/image_data/training/Cat/2543.jpg  \n",
            "  inflating: Keras_Deep_Learning-master/image_data/training/Cat/2544.jpg  \n",
            "  inflating: Keras_Deep_Learning-master/image_data/training/Cat/2545.jpg  \n",
            "  inflating: Keras_Deep_Learning-master/image_data/training/Cat/2546.jpg  \n",
            "  inflating: Keras_Deep_Learning-master/image_data/training/Cat/2547.jpg  \n",
            "  inflating: Keras_Deep_Learning-master/image_data/training/Cat/2548.jpg  \n",
            "  inflating: Keras_Deep_Learning-master/image_data/training/Cat/2549.jpg  \n",
            "  inflating: Keras_Deep_Learning-master/image_data/training/Cat/2550.jpg  \n",
            "  inflating: Keras_Deep_Learning-master/image_data/training/Cat/2551.jpg  \n",
            "  inflating: Keras_Deep_Learning-master/image_data/training/Cat/2552.jpg  \n",
            "  inflating: Keras_Deep_Learning-master/image_data/training/Cat/2553.jpg  \n",
            "  inflating: Keras_Deep_Learning-master/image_data/training/Cat/2554.jpg  \n",
            "  inflating: Keras_Deep_Learning-master/image_data/training/Cat/2555.jpg  \n",
            "  inflating: Keras_Deep_Learning-master/image_data/training/Cat/2556.jpg  \n",
            "  inflating: Keras_Deep_Learning-master/image_data/training/Cat/2557.jpg  \n",
            "  inflating: Keras_Deep_Learning-master/image_data/training/Cat/2558.jpg  \n",
            "  inflating: Keras_Deep_Learning-master/image_data/training/Cat/2559.jpg  \n",
            "  inflating: Keras_Deep_Learning-master/image_data/training/Cat/2560.jpg  \n",
            "  inflating: Keras_Deep_Learning-master/image_data/training/Cat/2561.jpg  \n",
            "  inflating: Keras_Deep_Learning-master/image_data/training/Cat/2562.jpg  \n",
            "  inflating: Keras_Deep_Learning-master/image_data/training/Cat/2563.jpg  \n",
            "  inflating: Keras_Deep_Learning-master/image_data/training/Cat/2564.jpg  \n",
            "  inflating: Keras_Deep_Learning-master/image_data/training/Cat/2565.jpg  \n",
            "  inflating: Keras_Deep_Learning-master/image_data/training/Cat/2566.jpg  \n",
            "  inflating: Keras_Deep_Learning-master/image_data/training/Cat/2567.jpg  \n",
            "  inflating: Keras_Deep_Learning-master/image_data/training/Cat/2568.jpg  \n",
            "  inflating: Keras_Deep_Learning-master/image_data/training/Cat/2569.jpg  \n",
            "  inflating: Keras_Deep_Learning-master/image_data/training/Cat/2570.jpg  \n",
            "  inflating: Keras_Deep_Learning-master/image_data/training/Cat/2571.jpg  \n",
            "  inflating: Keras_Deep_Learning-master/image_data/training/Cat/2572.jpg  \n",
            "  inflating: Keras_Deep_Learning-master/image_data/training/Cat/2573.jpg  \n",
            "  inflating: Keras_Deep_Learning-master/image_data/training/Cat/2574.jpg  \n",
            "  inflating: Keras_Deep_Learning-master/image_data/training/Cat/2575.jpg  \n",
            "  inflating: Keras_Deep_Learning-master/image_data/training/Cat/2576.jpg  \n",
            "  inflating: Keras_Deep_Learning-master/image_data/training/Cat/2577.jpg  \n",
            "  inflating: Keras_Deep_Learning-master/image_data/training/Cat/2578.jpg  \n",
            "  inflating: Keras_Deep_Learning-master/image_data/training/Cat/2579.jpg  \n",
            "  inflating: Keras_Deep_Learning-master/image_data/training/Cat/2580.jpg  \n",
            "  inflating: Keras_Deep_Learning-master/image_data/training/Cat/2581.jpg  \n",
            "  inflating: Keras_Deep_Learning-master/image_data/training/Cat/2582.jpg  \n",
            "  inflating: Keras_Deep_Learning-master/image_data/training/Cat/2583.jpg  \n",
            "  inflating: Keras_Deep_Learning-master/image_data/training/Cat/2584.jpg  \n",
            "  inflating: Keras_Deep_Learning-master/image_data/training/Cat/2585.jpg  \n",
            "  inflating: Keras_Deep_Learning-master/image_data/training/Cat/2586.jpg  \n",
            "  inflating: Keras_Deep_Learning-master/image_data/training/Cat/2587.jpg  \n",
            "  inflating: Keras_Deep_Learning-master/image_data/training/Cat/2588.jpg  \n",
            "  inflating: Keras_Deep_Learning-master/image_data/training/Cat/2589.jpg  \n",
            "  inflating: Keras_Deep_Learning-master/image_data/training/Cat/2590.jpg  \n",
            "  inflating: Keras_Deep_Learning-master/image_data/training/Cat/2591.jpg  \n",
            "  inflating: Keras_Deep_Learning-master/image_data/training/Cat/2592.jpg  \n",
            "  inflating: Keras_Deep_Learning-master/image_data/training/Cat/2593.jpg  \n",
            "  inflating: Keras_Deep_Learning-master/image_data/training/Cat/2594.jpg  \n",
            "  inflating: Keras_Deep_Learning-master/image_data/training/Cat/2595.jpg  \n",
            "  inflating: Keras_Deep_Learning-master/image_data/training/Cat/2596.jpg  \n",
            "  inflating: Keras_Deep_Learning-master/image_data/training/Cat/2597.jpg  \n",
            "  inflating: Keras_Deep_Learning-master/image_data/training/Cat/2598.jpg  \n",
            "  inflating: Keras_Deep_Learning-master/image_data/training/Cat/2599.jpg  \n",
            "  inflating: Keras_Deep_Learning-master/image_data/training/Cat/2600.jpg  \n",
            "   creating: Keras_Deep_Learning-master/image_data/training/Dog/\n",
            "  inflating: Keras_Deep_Learning-master/image_data/training/Dog/2502.jpg  \n",
            "  inflating: Keras_Deep_Learning-master/image_data/training/Dog/2503.jpg  \n",
            "  inflating: Keras_Deep_Learning-master/image_data/training/Dog/2504.jpg  \n",
            "  inflating: Keras_Deep_Learning-master/image_data/training/Dog/2505.jpg  \n",
            "  inflating: Keras_Deep_Learning-master/image_data/training/Dog/2506.jpg  \n",
            "  inflating: Keras_Deep_Learning-master/image_data/training/Dog/2507.jpg  \n",
            "  inflating: Keras_Deep_Learning-master/image_data/training/Dog/2508.jpg  \n",
            "  inflating: Keras_Deep_Learning-master/image_data/training/Dog/2509.jpg  \n",
            "  inflating: Keras_Deep_Learning-master/image_data/training/Dog/2510.jpg  \n",
            "  inflating: Keras_Deep_Learning-master/image_data/training/Dog/2511.jpg  \n",
            "  inflating: Keras_Deep_Learning-master/image_data/training/Dog/2512.jpg  \n",
            "  inflating: Keras_Deep_Learning-master/image_data/training/Dog/2513.jpg  \n",
            "  inflating: Keras_Deep_Learning-master/image_data/training/Dog/2514.jpg  \n",
            "  inflating: Keras_Deep_Learning-master/image_data/training/Dog/2515.jpg  \n",
            "  inflating: Keras_Deep_Learning-master/image_data/training/Dog/2516.jpg  \n",
            "  inflating: Keras_Deep_Learning-master/image_data/training/Dog/2517.jpg  \n",
            "  inflating: Keras_Deep_Learning-master/image_data/training/Dog/2518.jpg  \n",
            "  inflating: Keras_Deep_Learning-master/image_data/training/Dog/2519.jpg  \n",
            "  inflating: Keras_Deep_Learning-master/image_data/training/Dog/2520.jpg  \n",
            "  inflating: Keras_Deep_Learning-master/image_data/training/Dog/2521.jpg  \n",
            "  inflating: Keras_Deep_Learning-master/image_data/training/Dog/2522.jpg  \n",
            "  inflating: Keras_Deep_Learning-master/image_data/training/Dog/2523.jpg  \n",
            "  inflating: Keras_Deep_Learning-master/image_data/training/Dog/2524.jpg  \n",
            "  inflating: Keras_Deep_Learning-master/image_data/training/Dog/2525.jpg  \n",
            "  inflating: Keras_Deep_Learning-master/image_data/training/Dog/2526.jpg  \n",
            "  inflating: Keras_Deep_Learning-master/image_data/training/Dog/2527.jpg  \n",
            "  inflating: Keras_Deep_Learning-master/image_data/training/Dog/2528.jpg  \n",
            "  inflating: Keras_Deep_Learning-master/image_data/training/Dog/2529.jpg  \n",
            "  inflating: Keras_Deep_Learning-master/image_data/training/Dog/2530.jpg  \n",
            "  inflating: Keras_Deep_Learning-master/image_data/training/Dog/2531.jpg  \n",
            "  inflating: Keras_Deep_Learning-master/image_data/training/Dog/2532.jpg  \n",
            "  inflating: Keras_Deep_Learning-master/image_data/training/Dog/2533.jpg  \n",
            "  inflating: Keras_Deep_Learning-master/image_data/training/Dog/2534.jpg  \n",
            "  inflating: Keras_Deep_Learning-master/image_data/training/Dog/2535.jpg  \n",
            "  inflating: Keras_Deep_Learning-master/image_data/training/Dog/2536.jpg  \n",
            "  inflating: Keras_Deep_Learning-master/image_data/training/Dog/2537.jpg  \n",
            "  inflating: Keras_Deep_Learning-master/image_data/training/Dog/2538.jpg  \n",
            "  inflating: Keras_Deep_Learning-master/image_data/training/Dog/2539.jpg  \n",
            "  inflating: Keras_Deep_Learning-master/image_data/training/Dog/2540.jpg  \n",
            "  inflating: Keras_Deep_Learning-master/image_data/training/Dog/2541.jpg  \n",
            "  inflating: Keras_Deep_Learning-master/image_data/training/Dog/2542.jpg  \n",
            "  inflating: Keras_Deep_Learning-master/image_data/training/Dog/2543.jpg  \n",
            "  inflating: Keras_Deep_Learning-master/image_data/training/Dog/2544.jpg  \n",
            "  inflating: Keras_Deep_Learning-master/image_data/training/Dog/2545.jpg  \n",
            "  inflating: Keras_Deep_Learning-master/image_data/training/Dog/2546.jpg  \n",
            "  inflating: Keras_Deep_Learning-master/image_data/training/Dog/2547.jpg  \n",
            "  inflating: Keras_Deep_Learning-master/image_data/training/Dog/2548.jpg  \n",
            "  inflating: Keras_Deep_Learning-master/image_data/training/Dog/2549.jpg  \n",
            "  inflating: Keras_Deep_Learning-master/image_data/training/Dog/2550.jpg  \n",
            "  inflating: Keras_Deep_Learning-master/image_data/training/Dog/2551.jpg  \n",
            "  inflating: Keras_Deep_Learning-master/image_data/training/Dog/2552.jpg  \n",
            "  inflating: Keras_Deep_Learning-master/image_data/training/Dog/2553.jpg  \n",
            "  inflating: Keras_Deep_Learning-master/image_data/training/Dog/2554.jpg  \n",
            "  inflating: Keras_Deep_Learning-master/image_data/training/Dog/2555.jpg  \n",
            "  inflating: Keras_Deep_Learning-master/image_data/training/Dog/2556.jpg  \n",
            "  inflating: Keras_Deep_Learning-master/image_data/training/Dog/2557.jpg  \n",
            "  inflating: Keras_Deep_Learning-master/image_data/training/Dog/2558.jpg  \n",
            "  inflating: Keras_Deep_Learning-master/image_data/training/Dog/2559.jpg  \n",
            "  inflating: Keras_Deep_Learning-master/image_data/training/Dog/2560.jpg  \n",
            "  inflating: Keras_Deep_Learning-master/image_data/training/Dog/2561.jpg  \n",
            "  inflating: Keras_Deep_Learning-master/image_data/training/Dog/2562.jpg  \n",
            "  inflating: Keras_Deep_Learning-master/image_data/training/Dog/2563.jpg  \n",
            "  inflating: Keras_Deep_Learning-master/image_data/training/Dog/2564.jpg  \n",
            "  inflating: Keras_Deep_Learning-master/image_data/training/Dog/2565.jpg  \n",
            "  inflating: Keras_Deep_Learning-master/image_data/training/Dog/2566.jpg  \n",
            "  inflating: Keras_Deep_Learning-master/image_data/training/Dog/2567.jpg  \n",
            "  inflating: Keras_Deep_Learning-master/image_data/training/Dog/2568.jpg  \n",
            "  inflating: Keras_Deep_Learning-master/image_data/training/Dog/2569.jpg  \n",
            "  inflating: Keras_Deep_Learning-master/image_data/training/Dog/2570.jpg  \n",
            "  inflating: Keras_Deep_Learning-master/image_data/training/Dog/2571.jpg  \n",
            "  inflating: Keras_Deep_Learning-master/image_data/training/Dog/2572.jpg  \n",
            "  inflating: Keras_Deep_Learning-master/image_data/training/Dog/2573.jpg  \n",
            "  inflating: Keras_Deep_Learning-master/image_data/training/Dog/2574.jpg  \n",
            "  inflating: Keras_Deep_Learning-master/image_data/training/Dog/2575.jpg  \n",
            "  inflating: Keras_Deep_Learning-master/image_data/training/Dog/2576.jpg  \n",
            "  inflating: Keras_Deep_Learning-master/image_data/training/Dog/2577.jpg  \n",
            "  inflating: Keras_Deep_Learning-master/image_data/training/Dog/2578.jpg  \n",
            "  inflating: Keras_Deep_Learning-master/image_data/training/Dog/2579.jpg  \n",
            "  inflating: Keras_Deep_Learning-master/image_data/training/Dog/2580.jpg  \n",
            "  inflating: Keras_Deep_Learning-master/image_data/training/Dog/2581.jpg  \n",
            "  inflating: Keras_Deep_Learning-master/image_data/training/Dog/2582.jpg  \n",
            "  inflating: Keras_Deep_Learning-master/image_data/training/Dog/2583.jpg  \n",
            "  inflating: Keras_Deep_Learning-master/image_data/training/Dog/2584.jpg  \n",
            "  inflating: Keras_Deep_Learning-master/image_data/training/Dog/2585.jpg  \n",
            "  inflating: Keras_Deep_Learning-master/image_data/training/Dog/2586.jpg  \n",
            "  inflating: Keras_Deep_Learning-master/image_data/training/Dog/2587.jpg  \n",
            "  inflating: Keras_Deep_Learning-master/image_data/training/Dog/2588.jpg  \n",
            "  inflating: Keras_Deep_Learning-master/image_data/training/Dog/2589.jpg  \n",
            "  inflating: Keras_Deep_Learning-master/image_data/training/Dog/2590.jpg  \n",
            "  inflating: Keras_Deep_Learning-master/image_data/training/Dog/2591.jpg  \n",
            "  inflating: Keras_Deep_Learning-master/image_data/training/Dog/2592.jpg  \n",
            "  inflating: Keras_Deep_Learning-master/image_data/training/Dog/2593.jpg  \n",
            "  inflating: Keras_Deep_Learning-master/image_data/training/Dog/2594.jpg  \n",
            "  inflating: Keras_Deep_Learning-master/image_data/training/Dog/2595.jpg  \n",
            "  inflating: Keras_Deep_Learning-master/image_data/training/Dog/2596.jpg  \n",
            "  inflating: Keras_Deep_Learning-master/image_data/training/Dog/2597.jpg  \n",
            "  inflating: Keras_Deep_Learning-master/image_data/training/Dog/2598.jpg  \n",
            "  inflating: Keras_Deep_Learning-master/image_data/training/Dog/2599.jpg  \n",
            "  inflating: Keras_Deep_Learning-master/image_data/training/Dog/2600.jpg  \n",
            "   creating: Keras_Deep_Learning-master/image_data/validation/\n",
            "   creating: Keras_Deep_Learning-master/image_data/validation/Cat/\n",
            "  inflating: Keras_Deep_Learning-master/image_data/validation/Cat/0.jpg  \n",
            "  inflating: Keras_Deep_Learning-master/image_data/validation/Cat/1.jpg  \n",
            "  inflating: Keras_Deep_Learning-master/image_data/validation/Cat/10.jpg  \n",
            "  inflating: Keras_Deep_Learning-master/image_data/validation/Cat/11.jpg  \n",
            "  inflating: Keras_Deep_Learning-master/image_data/validation/Cat/12.jpg  \n",
            "  inflating: Keras_Deep_Learning-master/image_data/validation/Cat/13.jpg  \n",
            "  inflating: Keras_Deep_Learning-master/image_data/validation/Cat/14.jpg  \n",
            "  inflating: Keras_Deep_Learning-master/image_data/validation/Cat/15.jpg  \n",
            "  inflating: Keras_Deep_Learning-master/image_data/validation/Cat/16.jpg  \n",
            "  inflating: Keras_Deep_Learning-master/image_data/validation/Cat/17.jpg  \n",
            "  inflating: Keras_Deep_Learning-master/image_data/validation/Cat/18.jpg  \n",
            "  inflating: Keras_Deep_Learning-master/image_data/validation/Cat/19.jpg  \n",
            "  inflating: Keras_Deep_Learning-master/image_data/validation/Cat/2.jpg  \n",
            "  inflating: Keras_Deep_Learning-master/image_data/validation/Cat/20.jpg  \n",
            "  inflating: Keras_Deep_Learning-master/image_data/validation/Cat/21.jpg  \n",
            "  inflating: Keras_Deep_Learning-master/image_data/validation/Cat/22.jpg  \n",
            "  inflating: Keras_Deep_Learning-master/image_data/validation/Cat/23.jpg  \n",
            "  inflating: Keras_Deep_Learning-master/image_data/validation/Cat/24.jpg  \n",
            "  inflating: Keras_Deep_Learning-master/image_data/validation/Cat/25.jpg  \n",
            "  inflating: Keras_Deep_Learning-master/image_data/validation/Cat/26.jpg  \n",
            "  inflating: Keras_Deep_Learning-master/image_data/validation/Cat/27.jpg  \n",
            "  inflating: Keras_Deep_Learning-master/image_data/validation/Cat/28.jpg  \n",
            "  inflating: Keras_Deep_Learning-master/image_data/validation/Cat/29.jpg  \n",
            "  inflating: Keras_Deep_Learning-master/image_data/validation/Cat/3.jpg  \n",
            "  inflating: Keras_Deep_Learning-master/image_data/validation/Cat/30.jpg  \n",
            "  inflating: Keras_Deep_Learning-master/image_data/validation/Cat/31.jpg  \n",
            "  inflating: Keras_Deep_Learning-master/image_data/validation/Cat/32.jpg  \n",
            "  inflating: Keras_Deep_Learning-master/image_data/validation/Cat/33.jpg  \n",
            "  inflating: Keras_Deep_Learning-master/image_data/validation/Cat/34.jpg  \n",
            "  inflating: Keras_Deep_Learning-master/image_data/validation/Cat/35.jpg  \n",
            "  inflating: Keras_Deep_Learning-master/image_data/validation/Cat/36.jpg  \n",
            "  inflating: Keras_Deep_Learning-master/image_data/validation/Cat/37.jpg  \n",
            "  inflating: Keras_Deep_Learning-master/image_data/validation/Cat/38.jpg  \n",
            "  inflating: Keras_Deep_Learning-master/image_data/validation/Cat/39.jpg  \n",
            "  inflating: Keras_Deep_Learning-master/image_data/validation/Cat/4.jpg  \n",
            "  inflating: Keras_Deep_Learning-master/image_data/validation/Cat/40.jpg  \n",
            "  inflating: Keras_Deep_Learning-master/image_data/validation/Cat/41.jpg  \n",
            "  inflating: Keras_Deep_Learning-master/image_data/validation/Cat/42.jpg  \n",
            "  inflating: Keras_Deep_Learning-master/image_data/validation/Cat/43.jpg  \n",
            "  inflating: Keras_Deep_Learning-master/image_data/validation/Cat/44.jpg  \n",
            "  inflating: Keras_Deep_Learning-master/image_data/validation/Cat/45.jpg  \n",
            "  inflating: Keras_Deep_Learning-master/image_data/validation/Cat/46.jpg  \n",
            "  inflating: Keras_Deep_Learning-master/image_data/validation/Cat/47.jpg  \n",
            "  inflating: Keras_Deep_Learning-master/image_data/validation/Cat/48.jpg  \n",
            "  inflating: Keras_Deep_Learning-master/image_data/validation/Cat/49.jpg  \n",
            "  inflating: Keras_Deep_Learning-master/image_data/validation/Cat/5.jpg  \n",
            "  inflating: Keras_Deep_Learning-master/image_data/validation/Cat/6.jpg  \n",
            "  inflating: Keras_Deep_Learning-master/image_data/validation/Cat/7.jpg  \n",
            "  inflating: Keras_Deep_Learning-master/image_data/validation/Cat/8.jpg  \n",
            "  inflating: Keras_Deep_Learning-master/image_data/validation/Cat/9.jpg  \n",
            "   creating: Keras_Deep_Learning-master/image_data/validation/Dog/\n",
            "  inflating: Keras_Deep_Learning-master/image_data/validation/Dog/0.jpg  \n",
            "  inflating: Keras_Deep_Learning-master/image_data/validation/Dog/1.jpg  \n",
            "  inflating: Keras_Deep_Learning-master/image_data/validation/Dog/10.jpg  \n",
            "  inflating: Keras_Deep_Learning-master/image_data/validation/Dog/11.jpg  \n",
            "  inflating: Keras_Deep_Learning-master/image_data/validation/Dog/12.jpg  \n",
            "  inflating: Keras_Deep_Learning-master/image_data/validation/Dog/13.jpg  \n",
            "  inflating: Keras_Deep_Learning-master/image_data/validation/Dog/14.jpg  \n",
            "  inflating: Keras_Deep_Learning-master/image_data/validation/Dog/15.jpg  \n",
            "  inflating: Keras_Deep_Learning-master/image_data/validation/Dog/16.jpg  \n",
            "  inflating: Keras_Deep_Learning-master/image_data/validation/Dog/17.jpg  \n",
            "  inflating: Keras_Deep_Learning-master/image_data/validation/Dog/18.jpg  \n",
            "  inflating: Keras_Deep_Learning-master/image_data/validation/Dog/19.jpg  \n",
            "  inflating: Keras_Deep_Learning-master/image_data/validation/Dog/2.jpg  \n",
            "  inflating: Keras_Deep_Learning-master/image_data/validation/Dog/20.jpg  \n",
            "  inflating: Keras_Deep_Learning-master/image_data/validation/Dog/21.jpg  \n",
            "  inflating: Keras_Deep_Learning-master/image_data/validation/Dog/22.jpg  \n",
            "  inflating: Keras_Deep_Learning-master/image_data/validation/Dog/23.jpg  \n",
            "  inflating: Keras_Deep_Learning-master/image_data/validation/Dog/24.jpg  \n",
            "  inflating: Keras_Deep_Learning-master/image_data/validation/Dog/25.jpg  \n",
            "  inflating: Keras_Deep_Learning-master/image_data/validation/Dog/26.jpg  \n",
            "  inflating: Keras_Deep_Learning-master/image_data/validation/Dog/27.jpg  \n",
            "  inflating: Keras_Deep_Learning-master/image_data/validation/Dog/28.jpg  \n",
            "  inflating: Keras_Deep_Learning-master/image_data/validation/Dog/29.jpg  \n",
            "  inflating: Keras_Deep_Learning-master/image_data/validation/Dog/3.jpg  \n",
            "  inflating: Keras_Deep_Learning-master/image_data/validation/Dog/30.jpg  \n",
            "  inflating: Keras_Deep_Learning-master/image_data/validation/Dog/31.jpg  \n",
            "  inflating: Keras_Deep_Learning-master/image_data/validation/Dog/32.jpg  \n",
            "  inflating: Keras_Deep_Learning-master/image_data/validation/Dog/33.jpg  \n",
            "  inflating: Keras_Deep_Learning-master/image_data/validation/Dog/34.jpg  \n",
            "  inflating: Keras_Deep_Learning-master/image_data/validation/Dog/35.jpg  \n",
            "  inflating: Keras_Deep_Learning-master/image_data/validation/Dog/36.jpg  \n",
            "  inflating: Keras_Deep_Learning-master/image_data/validation/Dog/37.jpg  \n",
            "  inflating: Keras_Deep_Learning-master/image_data/validation/Dog/38.jpg  \n",
            "  inflating: Keras_Deep_Learning-master/image_data/validation/Dog/39.jpg  \n",
            "  inflating: Keras_Deep_Learning-master/image_data/validation/Dog/4.jpg  \n",
            "  inflating: Keras_Deep_Learning-master/image_data/validation/Dog/40.jpg  \n",
            "  inflating: Keras_Deep_Learning-master/image_data/validation/Dog/41.jpg  \n",
            "  inflating: Keras_Deep_Learning-master/image_data/validation/Dog/42.jpg  \n",
            "  inflating: Keras_Deep_Learning-master/image_data/validation/Dog/43.jpg  \n",
            "  inflating: Keras_Deep_Learning-master/image_data/validation/Dog/44.jpg  \n",
            "  inflating: Keras_Deep_Learning-master/image_data/validation/Dog/45.jpg  \n",
            "  inflating: Keras_Deep_Learning-master/image_data/validation/Dog/46.jpg  \n",
            "  inflating: Keras_Deep_Learning-master/image_data/validation/Dog/47.jpg  \n",
            "  inflating: Keras_Deep_Learning-master/image_data/validation/Dog/48.jpg  \n",
            "  inflating: Keras_Deep_Learning-master/image_data/validation/Dog/49.jpg  \n",
            "  inflating: Keras_Deep_Learning-master/image_data/validation/Dog/5.jpg  \n",
            "  inflating: Keras_Deep_Learning-master/image_data/validation/Dog/6.jpg  \n",
            "  inflating: Keras_Deep_Learning-master/image_data/validation/Dog/7.jpg  \n",
            "  inflating: Keras_Deep_Learning-master/image_data/validation/Dog/8.jpg  \n",
            "  inflating: Keras_Deep_Learning-master/image_data/validation/Dog/9.jpg  \n",
            "  inflating: Keras_Deep_Learning-master/pima-indians-diabetes.csv  \n"
          ]
        }
      ]
    },
    {
      "cell_type": "code",
      "source": [
        "train_datagen=ImageDataGenerator(rescale=1./255,shear_range=0.2,zoom_range=0.2,horizontal_flip=True)\n",
        "train_generator=train_datagen.flow_from_directory('/content/Keras_Deep_Learning-master/image_data/training',target_size=(64,64),\n",
        "    batch_size=32,\n",
        "    class_mode='binary')"
      ],
      "metadata": {
        "colab": {
          "base_uri": "https://localhost:8080/"
        },
        "id": "xlCUQEYjcuRh",
        "outputId": "c8a829de-8fda-451c-d9e9-bcb1117522c7"
      },
      "execution_count": 6,
      "outputs": [
        {
          "output_type": "stream",
          "name": "stdout",
          "text": [
            "Found 198 images belonging to 2 classes.\n"
          ]
        }
      ]
    },
    {
      "cell_type": "code",
      "source": [
        "test_datagen=ImageDataGenerator(rescale=1./255)\n",
        "validation_generator=test_datagen.flow_from_directory('/content/Keras_Deep_Learning-master/image_data/validation',target_size=(64,64),\n",
        "    batch_size=32,\n",
        "    class_mode='binary'\n",
        ")"
      ],
      "metadata": {
        "colab": {
          "base_uri": "https://localhost:8080/"
        },
        "id": "ngOrBl4RfsCi",
        "outputId": "382feb68-4c5f-42b9-8763-64353275efd4"
      },
      "execution_count": 7,
      "outputs": [
        {
          "output_type": "stream",
          "name": "stdout",
          "text": [
            "Found 100 images belonging to 2 classes.\n"
          ]
        }
      ]
    },
    {
      "cell_type": "code",
      "source": [
        "cnn =tf.keras.models.Sequential()"
      ],
      "metadata": {
        "id": "9_VfcaquieAz"
      },
      "execution_count": 8,
      "outputs": []
    },
    {
      "cell_type": "code",
      "source": [
        "cnn.add(tf.keras.layers.Conv2D(filters=32,kernel_size=3,activation='relu',input_shape=[64,64,3]))"
      ],
      "metadata": {
        "id": "DRUJ9Y5iigPJ"
      },
      "execution_count": 9,
      "outputs": []
    },
    {
      "cell_type": "code",
      "source": [
        "cnn.add(tf.keras.layers.MaxPool2D(pool_size=2,strides=2))"
      ],
      "metadata": {
        "id": "iZ6HFCOxijay"
      },
      "execution_count": 10,
      "outputs": []
    },
    {
      "cell_type": "code",
      "source": [
        "cnn.add(tf.keras.layers.Conv2D(filters=64,kernel_size=3,activation='relu',input_shape=[64,64,3]))\n",
        "cnn.add(tf.keras.layers.MaxPool2D(pool_size=2,strides=2))"
      ],
      "metadata": {
        "id": "PbqnoUa7inBy"
      },
      "execution_count": 11,
      "outputs": []
    },
    {
      "cell_type": "code",
      "source": [
        "cnn.add(tf.keras.layers.Flatten()) "
      ],
      "metadata": {
        "id": "tzlsINe5iqfB"
      },
      "execution_count": 12,
      "outputs": []
    },
    {
      "cell_type": "code",
      "source": [
        "cnn.add(tf.keras.layers.Dense(units=128,activation='relu'))"
      ],
      "metadata": {
        "id": "OL1YIngmiuRx"
      },
      "execution_count": 13,
      "outputs": []
    },
    {
      "cell_type": "code",
      "source": [
        "cnn.add(tf.keras.layers.Dense(units=1,activation='sigmoid'))"
      ],
      "metadata": {
        "id": "8Wd3Tfmuivjb"
      },
      "execution_count": 14,
      "outputs": []
    },
    {
      "cell_type": "code",
      "source": [
        "cnn.compile(optimizer='adam',loss='binary_crossentropy', metrics=['accuracy'])"
      ],
      "metadata": {
        "id": "D7N4SwffiyQA"
      },
      "execution_count": 15,
      "outputs": []
    },
    {
      "cell_type": "code",
      "source": [
        "history=cnn.fit(x=train_generator, validation_data=validation_generator,epochs=5) "
      ],
      "metadata": {
        "colab": {
          "base_uri": "https://localhost:8080/"
        },
        "id": "g6-hbDksi2-R",
        "outputId": "7b3e1266-88eb-4ae9-9c3b-250d09295d2f"
      },
      "execution_count": 16,
      "outputs": [
        {
          "output_type": "stream",
          "name": "stdout",
          "text": [
            "Epoch 1/5\n",
            "7/7 [==============================] - 3s 363ms/step - loss: 0.7921 - accuracy: 0.5303 - val_loss: 0.7122 - val_accuracy: 0.5000\n",
            "Epoch 2/5\n",
            "7/7 [==============================] - 2s 346ms/step - loss: 0.6918 - accuracy: 0.5556 - val_loss: 0.6929 - val_accuracy: 0.5000\n",
            "Epoch 3/5\n",
            "7/7 [==============================] - 2s 325ms/step - loss: 0.6895 - accuracy: 0.5909 - val_loss: 0.6910 - val_accuracy: 0.5000\n",
            "Epoch 4/5\n",
            "7/7 [==============================] - 2s 309ms/step - loss: 0.6819 - accuracy: 0.6010 - val_loss: 0.6875 - val_accuracy: 0.5000\n",
            "Epoch 5/5\n",
            "7/7 [==============================] - 2s 327ms/step - loss: 0.6833 - accuracy: 0.5707 - val_loss: 0.7081 - val_accuracy: 0.5000\n"
          ]
        }
      ]
    },
    {
      "cell_type": "code",
      "source": [
        "import numpy as np\n",
        "from keras.preprocessing import image\n",
        "test_image = image.load_img('/content/Keras_Deep_Learning-master/image_data/test/236.jpg', target_size = (64, 64))\n",
        "test_image = image.img_to_array(test_image)\n",
        "test_image = np.expand_dims(test_image, axis = 0)\n",
        "result = cnn.predict(test_image)\n",
        "train_generator.class_indices\n",
        "if result[0][0] == 1:\n",
        "  prediction = 'cat'\n",
        "else:\n",
        "  prediction = 'dog'\n",
        " "
      ],
      "metadata": {
        "id": "R5OnMRVMjKiB"
      },
      "execution_count": 17,
      "outputs": []
    },
    {
      "cell_type": "code",
      "source": [
        "print(prediction) "
      ],
      "metadata": {
        "colab": {
          "base_uri": "https://localhost:8080/"
        },
        "id": "CNAsd5KJjbqi",
        "outputId": "881ef5d4-e815-4364-aac6-9ad40bd7f6ef"
      },
      "execution_count": 18,
      "outputs": [
        {
          "output_type": "stream",
          "name": "stdout",
          "text": [
            "dog\n"
          ]
        }
      ]
    },
    {
      "cell_type": "code",
      "source": [
        "import matplotlib.pyplot as plt\n",
        "print(history.history.keys())"
      ],
      "metadata": {
        "colab": {
          "base_uri": "https://localhost:8080/"
        },
        "id": "y1cbtY10k7xP",
        "outputId": "9433c79b-6a3d-4d00-cf3a-38f0d670f424"
      },
      "execution_count": 19,
      "outputs": [
        {
          "output_type": "stream",
          "name": "stdout",
          "text": [
            "dict_keys(['loss', 'accuracy', 'val_loss', 'val_accuracy'])\n"
          ]
        }
      ]
    },
    {
      "cell_type": "code",
      "source": [
        "plt.plot(history.history['loss'])\n",
        "plt.plot(history.history['accuracy'])\n",
        "plt.plot(history.history['val_loss'])\n",
        "plt.plot(history.history['val_accuracy'])"
      ],
      "metadata": {
        "colab": {
          "base_uri": "https://localhost:8080/",
          "height": 282
        },
        "id": "lIZD13btlFeJ",
        "outputId": "69ecb94d-db3a-4ba2-f78f-e69540d9f474"
      },
      "execution_count": 20,
      "outputs": [
        {
          "output_type": "execute_result",
          "data": {
            "text/plain": [
              "[<matplotlib.lines.Line2D at 0x7f793a803910>]"
            ]
          },
          "metadata": {},
          "execution_count": 20
        },
        {
          "output_type": "display_data",
          "data": {
            "image/png": "[encoded data removed]",
            "text/plain": [
              "<Figure size 432x288 with 1 Axes>"
            ]
          },
          "metadata": {
            "needs_background": "light"
          }
        }
      ]
    }
  ]
}